{
  "nbformat": 4,
  "nbformat_minor": 0,
  "metadata": {
    "kernelspec": {
      "display_name": "Python 3",
      "language": "python",
      "name": "python3"
    },
    "language_info": {
      "codemirror_mode": {
        "name": "ipython",
        "version": 3
      },
      "file_extension": ".py",
      "mimetype": "text/x-python",
      "name": "python",
      "nbconvert_exporter": "python",
      "pygments_lexer": "ipython3",
      "version": "3.7.4"
    },
    "colab": {
      "name": "lettres.ipynb",
      "provenance": []
    }
  },
  "cells": [
    {
      "cell_type": "code",
      "metadata": {
        "id": "Apqt5nxtI6SQ"
      },
      "source": [
        "import matplotlib.pyplot as plt\n",
        "from PIL import Image\n",
        "import numpy as np\n",
        "import emnist\n",
        "#from sklearn import datasets\n",
        "from emnist import list_datasets\n",
        "from emnist import extract_training_samples\n",
        "from emnist import extract_test_samples\n",
        "%matplotlib inline"
      ],
      "execution_count": null,
      "outputs": []
    },
    {
      "cell_type": "code",
      "metadata": {
        "id": "CdjxXu9mI6Se",
        "outputId": "0b5e4ddc-d090-491c-f5af-8edb21e7123a"
      },
      "source": [
        "print(list_datasets())"
      ],
      "execution_count": null,
      "outputs": [
        {
          "output_type": "stream",
          "text": [
            "['balanced', 'byclass', 'bymerge', 'digits', 'letters', 'mnist']\n"
          ],
          "name": "stdout"
        }
      ]
    },
    {
      "cell_type": "markdown",
      "metadata": {
        "id": "EhcWr78oJbQ_"
      },
      "source": [
        "----\r\n",
        "\r\n",
        "uploading letters \r\n",
        "\r\n",
        "----"
      ]
    },
    {
      "cell_type": "code",
      "metadata": {
        "id": "E1Ey0AYPI6Sg"
      },
      "source": [
        "images, labels = extract_training_samples('letters')"
      ],
      "execution_count": null,
      "outputs": []
    },
    {
      "cell_type": "code",
      "metadata": {
        "id": "taLFgWE2I6Sh",
        "outputId": "867cfb85-f898-4438-cff0-79cbe090a14a"
      },
      "source": [
        "img=images[1].flatten()\n",
        "img.shape"
      ],
      "execution_count": null,
      "outputs": [
        {
          "output_type": "execute_result",
          "data": {
            "text/plain": [
              "(784,)"
            ]
          },
          "metadata": {
            "tags": []
          },
          "execution_count": 45
        }
      ]
    },
    {
      "cell_type": "markdown",
      "metadata": {
        "id": "8yUN_1OHJklm"
      },
      "source": [
        "----\r\n",
        "\r\n",
        "Showing the z letter \r\n",
        "\r\n",
        "----"
      ]
    },
    {
      "cell_type": "code",
      "metadata": {
        "id": "bBujUdBMI6Si",
        "outputId": "c7ccc007-61f0-42d7-d48f-81768da6293f"
      },
      "source": [
        "plt.imshow(images[110], cmap=plt.cm.gray_r, interpolation='nearest')\n",
        "plt.show()"
      ],
      "execution_count": null,
      "outputs": [
        {
          "output_type": "display_data",
          "data": {
            "image/png": "[encoded data removed]",
            "text/plain": [
              "<Figure size 432x288 with 1 Axes>"
            ]
          },
          "metadata": {
            "tags": [],
            "needs_background": "light"
          }
        }
      ]
    },
    {
      "cell_type": "markdown",
      "metadata": {
        "id": "paRVvlSwJ10z"
      },
      "source": [
        "Euclidienne distance :"
      ]
    },
    {
      "cell_type": "code",
      "metadata": {
        "id": "8AoILjv0I6Sj"
      },
      "source": [
        "def calculateDistance(i1, i2):\n",
        "    return np.sqrt(np.sum((i1-i2)**2))"
      ],
      "execution_count": null,
      "outputs": []
    },
    {
      "cell_type": "markdown",
      "metadata": {
        "id": "W0qUVwPZJ7eJ"
      },
      "source": [
        "----\r\n",
        "\r\n",
        "Find similar letters to the z letter :\r\n",
        "\r\n",
        "----"
      ]
    },
    {
      "cell_type": "code",
      "metadata": {
        "id": "t1bL55dCI6Sj",
        "outputId": "c9833c2e-5f9b-4f70-9e37-46164182acf5"
      },
      "source": [
        "image_desire=images[110]\n",
        "image_vect=image_desire.flatten()\n",
        "images_finale = []\n",
        "for image in images:\n",
        "    \n",
        "    image_sim = {'image':image,'distance':calculateDistance(image_vect,image.flatten())}\n",
        "    images_finale.append(image_sim)\n",
        "\n",
        "images_finale.sort(key = lambda x:x['distance'])\n",
        "#affichage des images aui ont a la tete de la liste \n",
        "plt.figure(figsize=(30,30))\n",
        "plt.title(label=\"Result\")\n",
        "for i in range(10):\n",
        "    image_and_desc = images_finale[i]\n",
        "    plt.subplot(5,10,i+1)\n",
        "    plt.xticks([image_and_desc['distance']])\n",
        "    plt.yticks([])\n",
        "    plt.grid(False)\n",
        "    plt.imshow(image_and_desc['image'], cmap=plt.cm.binary)\n",
        "plt.show()"
      ],
      "execution_count": null,
      "outputs": [
        {
          "output_type": "display_data",
          "data": {
            "image/png": "[encoded data removed]",
            "text/plain": [
              "<Figure size 2160x2160 with 10 Axes>"
            ]
          },
          "metadata": {
            "tags": [],
            "needs_background": "light"
          }
        }
      ]
    },
    {
      "cell_type": "code",
      "metadata": {
        "id": "7hNVlgxsI6Sk"
      },
      "source": [
        ""
      ],
      "execution_count": null,
      "outputs": []
    }
  ]
}